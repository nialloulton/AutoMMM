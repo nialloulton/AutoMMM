{
 "cells": [
  {
   "cell_type": "code",
   "execution_count": 7,
   "id": "78aa4217-eedf-41d3-a7d3-57cbdfa2c2bf",
   "metadata": {
    "tags": []
   },
   "outputs": [],
   "source": [
    "import numpy as np\n",
    "import pandas as pd\n",
    "from sklearn.linear_model import LinearRegression\n",
    "from sklearn.metrics import r2_score\n",
    "\n",
    "np.random.seed(42)\n",
    "\n",
    "# Simulating media variables with positive impact\n",
    "media1 = np.random.normal(100, 20, 100)\n",
    "media2 = np.random.normal(200, 30, 100)\n",
    "media3 = np.random.normal(150, 25, 100)\n",
    "\n",
    "# Simulating random variables with no impact\n",
    "random1 = np.random.normal(0, 1, 100)\n",
    "random2 = np.random.normal(0, 1, 100)\n",
    "random3 = np.random.normal(0, 1, 100)\n",
    "\n",
    "# Simulating highly correlated media variables\n",
    "media4 = media1 * 1.5 + np.random.normal(0, 5, 100)\n",
    "\n",
    "# Simulating negative variables like price\n",
    "price = np.random.normal(10, 0.5, 100)\n",
    "\n",
    "# Simulating distribution\n",
    "distribution = np.random.normal(500, 100, 100)\n",
    "\n",
    "# Creating a DataFrame\n",
    "data = pd.DataFrame({\n",
    "    'media1': media1,\n",
    "    'media2': media2,\n",
    "    'media3': media3,\n",
    "    'random1': random1,\n",
    "    'random2': random2,\n",
    "    'random3': random3,\n",
    "    'media4': media4,\n",
    "    'price': price,\n",
    "    'distribution': distribution,\n",
    "})\n",
    "\n",
    "# Simulating sales based on the variables\n",
    "true_coefficients = np.array([0.5, 0.3, 0.2, 0, 0, 0, -1, 0.2])\n",
    "X = data[['media1', 'media2', 'media3', 'random1', 'random2', 'media4', 'price', 'distribution']]\n",
    "sales = X.values @ true_coefficients + np.random.normal(0, 4, 100)\n",
    "data['sales'] = sales\n",
    "\n",
    "# Fit the linear regression model and check the R2 score\n",
    "model = LinearRegression()\n",
    "model.fit(X, sales)\n",
    "predictions = model.predict(X)\n",
    "\n",
    "\n"
   ]
  },
  {
   "cell_type": "markdown",
   "id": "2a91c75a-63e9-47cc-8d23-fb54828bdd6b",
   "metadata": {
    "tags": []
   },
   "source": [
    "# Simulate some MMM Data\n",
    "\n",
    "I've simulated data with highly correlated media variables and variables which are random noise"
   ]
  },
  {
   "cell_type": "code",
   "execution_count": 2,
   "id": "e2db7197-1f28-4bb2-83f0-8a3c4bcd2513",
   "metadata": {
    "tags": []
   },
   "outputs": [
    {
     "data": {
      "text/html": [
       "<div>\n",
       "<style scoped>\n",
       "    .dataframe tbody tr th:only-of-type {\n",
       "        vertical-align: middle;\n",
       "    }\n",
       "\n",
       "    .dataframe tbody tr th {\n",
       "        vertical-align: top;\n",
       "    }\n",
       "\n",
       "    .dataframe thead th {\n",
       "        text-align: right;\n",
       "    }\n",
       "</style>\n",
       "<table border=\"1\" class=\"dataframe\">\n",
       "  <thead>\n",
       "    <tr style=\"text-align: right;\">\n",
       "      <th></th>\n",
       "      <th>media1</th>\n",
       "      <th>media2</th>\n",
       "      <th>media3</th>\n",
       "      <th>random1</th>\n",
       "      <th>random2</th>\n",
       "      <th>random3</th>\n",
       "      <th>media4</th>\n",
       "      <th>price</th>\n",
       "      <th>distribution</th>\n",
       "      <th>sales</th>\n",
       "    </tr>\n",
       "  </thead>\n",
       "  <tbody>\n",
       "    <tr>\n",
       "      <th>0</th>\n",
       "      <td>109.934283</td>\n",
       "      <td>157.538878</td>\n",
       "      <td>158.944684</td>\n",
       "      <td>-0.828995</td>\n",
       "      <td>-1.594428</td>\n",
       "      <td>0.926178</td>\n",
       "      <td>168.686368</td>\n",
       "      <td>9.738638</td>\n",
       "      <td>593.828381</td>\n",
       "      <td>244.519473</td>\n",
       "    </tr>\n",
       "    <tr>\n",
       "      <th>1</th>\n",
       "      <td>97.234714</td>\n",
       "      <td>187.380640</td>\n",
       "      <td>164.019613</td>\n",
       "      <td>-0.560181</td>\n",
       "      <td>-0.599375</td>\n",
       "      <td>1.909417</td>\n",
       "      <td>141.241244</td>\n",
       "      <td>10.524505</td>\n",
       "      <td>448.395527</td>\n",
       "      <td>215.216717</td>\n",
       "    </tr>\n",
       "    <tr>\n",
       "      <th>2</th>\n",
       "      <td>112.953771</td>\n",
       "      <td>189.718565</td>\n",
       "      <td>177.076281</td>\n",
       "      <td>0.747294</td>\n",
       "      <td>0.005244</td>\n",
       "      <td>-1.398568</td>\n",
       "      <td>173.778686</td>\n",
       "      <td>9.647828</td>\n",
       "      <td>509.612078</td>\n",
       "      <td>241.197278</td>\n",
       "    </tr>\n",
       "    <tr>\n",
       "      <th>3</th>\n",
       "      <td>130.460597</td>\n",
       "      <td>175.931682</td>\n",
       "      <td>176.345051</td>\n",
       "      <td>0.610370</td>\n",
       "      <td>0.046981</td>\n",
       "      <td>0.562969</td>\n",
       "      <td>202.469085</td>\n",
       "      <td>9.295769</td>\n",
       "      <td>453.772471</td>\n",
       "      <td>239.851346</td>\n",
       "    </tr>\n",
       "    <tr>\n",
       "      <th>4</th>\n",
       "      <td>95.316933</td>\n",
       "      <td>195.161429</td>\n",
       "      <td>115.558266</td>\n",
       "      <td>-0.020902</td>\n",
       "      <td>-0.450065</td>\n",
       "      <td>-0.650643</td>\n",
       "      <td>145.042573</td>\n",
       "      <td>9.221685</td>\n",
       "      <td>456.550377</td>\n",
       "      <td>212.171334</td>\n",
       "    </tr>\n",
       "    <tr>\n",
       "      <th>...</th>\n",
       "      <td>...</td>\n",
       "      <td>...</td>\n",
       "      <td>...</td>\n",
       "      <td>...</td>\n",
       "      <td>...</td>\n",
       "      <td>...</td>\n",
       "      <td>...</td>\n",
       "      <td>...</td>\n",
       "      <td>...</td>\n",
       "      <td>...</td>\n",
       "    </tr>\n",
       "    <tr>\n",
       "      <th>95</th>\n",
       "      <td>70.729701</td>\n",
       "      <td>211.559521</td>\n",
       "      <td>132.677260</td>\n",
       "      <td>-0.469176</td>\n",
       "      <td>0.538910</td>\n",
       "      <td>-0.510016</td>\n",
       "      <td>104.546819</td>\n",
       "      <td>10.526576</td>\n",
       "      <td>564.870989</td>\n",
       "      <td>226.691379</td>\n",
       "    </tr>\n",
       "    <tr>\n",
       "      <th>96</th>\n",
       "      <td>105.922406</td>\n",
       "      <td>173.484277</td>\n",
       "      <td>172.489997</td>\n",
       "      <td>-1.713135</td>\n",
       "      <td>-1.037246</td>\n",
       "      <td>-0.269875</td>\n",
       "      <td>160.514273</td>\n",
       "      <td>9.980222</td>\n",
       "      <td>483.288192</td>\n",
       "      <td>233.372647</td>\n",
       "    </tr>\n",
       "    <tr>\n",
       "      <th>97</th>\n",
       "      <td>105.221105</td>\n",
       "      <td>204.611753</td>\n",
       "      <td>157.682488</td>\n",
       "      <td>1.353872</td>\n",
       "      <td>-0.190339</td>\n",
       "      <td>-0.978764</td>\n",
       "      <td>151.576090</td>\n",
       "      <td>10.340750</td>\n",
       "      <td>514.671369</td>\n",
       "      <td>240.687471</td>\n",
       "    </tr>\n",
       "    <tr>\n",
       "      <th>98</th>\n",
       "      <td>100.102269</td>\n",
       "      <td>201.746262</td>\n",
       "      <td>170.321553</td>\n",
       "      <td>-0.114540</td>\n",
       "      <td>-0.875618</td>\n",
       "      <td>-0.444293</td>\n",
       "      <td>154.773539</td>\n",
       "      <td>10.014159</td>\n",
       "      <td>620.650897</td>\n",
       "      <td>256.470628</td>\n",
       "    </tr>\n",
       "    <tr>\n",
       "      <th>99</th>\n",
       "      <td>95.308257</td>\n",
       "      <td>165.710891</td>\n",
       "      <td>165.740721</td>\n",
       "      <td>1.237816</td>\n",
       "      <td>-1.382800</td>\n",
       "      <td>0.377300</td>\n",
       "      <td>142.037875</td>\n",
       "      <td>10.014878</td>\n",
       "      <td>418.306433</td>\n",
       "      <td>206.452280</td>\n",
       "    </tr>\n",
       "  </tbody>\n",
       "</table>\n",
       "<p>100 rows × 10 columns</p>\n",
       "</div>"
      ],
      "text/plain": [
       "        media1      media2      media3   random1   random2   random3   \n",
       "0   109.934283  157.538878  158.944684 -0.828995 -1.594428  0.926178  \\\n",
       "1    97.234714  187.380640  164.019613 -0.560181 -0.599375  1.909417   \n",
       "2   112.953771  189.718565  177.076281  0.747294  0.005244 -1.398568   \n",
       "3   130.460597  175.931682  176.345051  0.610370  0.046981  0.562969   \n",
       "4    95.316933  195.161429  115.558266 -0.020902 -0.450065 -0.650643   \n",
       "..         ...         ...         ...       ...       ...       ...   \n",
       "95   70.729701  211.559521  132.677260 -0.469176  0.538910 -0.510016   \n",
       "96  105.922406  173.484277  172.489997 -1.713135 -1.037246 -0.269875   \n",
       "97  105.221105  204.611753  157.682488  1.353872 -0.190339 -0.978764   \n",
       "98  100.102269  201.746262  170.321553 -0.114540 -0.875618 -0.444293   \n",
       "99   95.308257  165.710891  165.740721  1.237816 -1.382800  0.377300   \n",
       "\n",
       "        media4      price  distribution       sales  \n",
       "0   168.686368   9.738638    593.828381  244.519473  \n",
       "1   141.241244  10.524505    448.395527  215.216717  \n",
       "2   173.778686   9.647828    509.612078  241.197278  \n",
       "3   202.469085   9.295769    453.772471  239.851346  \n",
       "4   145.042573   9.221685    456.550377  212.171334  \n",
       "..         ...        ...           ...         ...  \n",
       "95  104.546819  10.526576    564.870989  226.691379  \n",
       "96  160.514273   9.980222    483.288192  233.372647  \n",
       "97  151.576090  10.340750    514.671369  240.687471  \n",
       "98  154.773539  10.014159    620.650897  256.470628  \n",
       "99  142.037875  10.014878    418.306433  206.452280  \n",
       "\n",
       "[100 rows x 10 columns]"
      ]
     },
     "execution_count": 2,
     "metadata": {},
     "output_type": "execute_result"
    }
   ],
   "source": [
    "data"
   ]
  },
  {
   "cell_type": "markdown",
   "id": "ed61589d-29ed-41fe-b955-1237b493cc78",
   "metadata": {},
   "source": [
    "# Import the module and set your openai key"
   ]
  },
  {
   "cell_type": "code",
   "execution_count": 3,
   "id": "d06089be-3b61-41a0-92f8-9df24b8481a4",
   "metadata": {},
   "outputs": [],
   "source": [
    "from autoMMM.automodeller import AutoModeller\n",
    "import openai\n",
    "openai.api_key = \"your key here\"\n"
   ]
  },
  {
   "cell_type": "markdown",
   "id": "5a0f1bd1-bcd8-4143-80fa-547a84280e85",
   "metadata": {},
   "source": [
    "# Select independent & dependent variables and initial alpha for the ridge regression"
   ]
  },
  {
   "cell_type": "code",
   "execution_count": 14,
   "id": "3d5cc7e5-e905-4102-9ce5-5b72579a5e8c",
   "metadata": {
    "tags": []
   },
   "outputs": [],
   "source": [
    "# Select the initial independent variables\n",
    "independent_vars = ['media1', 'media2']\n",
    "# Set the dependent variable\n",
    "dependent_var = 'sales'\n",
    "# Set the initial alpha value for Ridge Regression\n",
    "initial_alpha = 1.0\n"
   ]
  },
  {
   "cell_type": "markdown",
   "id": "18c7c8c0-512b-4ecd-8192-d589e7a0f768",
   "metadata": {},
   "source": [
    "# Set the minimum and maximum number of iterations \n",
    "**(Warning, each iteration is a prompt request to openai, therefore incurs a cost)**"
   ]
  },
  {
   "cell_type": "code",
   "execution_count": 15,
   "id": "3535c23b-ba92-4c69-9419-6d5adaf1746d",
   "metadata": {
    "tags": []
   },
   "outputs": [],
   "source": [
    "min_iterations = 1\n",
    "max_iterations = 10\n"
   ]
  },
  {
   "cell_type": "markdown",
   "id": "324ba7bd-590a-4f56-a05e-9d8570b0ad44",
   "metadata": {},
   "source": [
    "# Create an instance of the AutoModeller class & run the automodeller\n"
   ]
  },
  {
   "cell_type": "code",
   "execution_count": 16,
   "id": "853e820d-6be3-42b2-8eb6-e0372f05d6d1",
   "metadata": {
    "tags": []
   },
   "outputs": [
    {
     "name": "stdout",
     "output_type": "stream",
     "text": [
      "variable test counts\n",
      "{'media1': 1, 'media2': 1, 'media3': 0, 'random1': 0, 'random2': 0, 'random3': 0, 'media4': 0, 'price': 0, 'distribution': 0, 'sales': 0}\n",
      "variable test counts\n",
      "{'media1': 2, 'media2': 2, 'media3': 1, 'random1': 0, 'random2': 0, 'random3': 0, 'media4': 1, 'price': 1, 'distribution': 1, 'sales': 0}\n",
      "model count:\n",
      "1\n",
      "variable test counts\n",
      "{'media1': 3, 'media2': 3, 'media3': 2, 'random1': 1, 'random2': 1, 'random3': 1, 'media4': 1, 'price': 2, 'distribution': 2, 'sales': 0}\n",
      "model count:\n",
      "2\n",
      "variable test counts\n",
      "{'media1': 4, 'media2': 4, 'media3': 3, 'random1': 1, 'random2': 1, 'random3': 1, 'media4': 2, 'price': 3, 'distribution': 3, 'sales': 0}\n",
      "model count:\n",
      "3\n",
      "variable test counts\n",
      "{'media1': 5, 'media2': 5, 'media3': 4, 'random1': 2, 'random2': 2, 'random3': 2, 'media4': 3, 'price': 4, 'distribution': 4, 'sales': 0}\n",
      "model count:\n",
      "4\n",
      "variable test counts\n",
      "{'media1': 6, 'media2': 6, 'media3': 5, 'random1': 2, 'random2': 3, 'random3': 3, 'media4': 4, 'price': 5, 'distribution': 5, 'sales': 0}\n",
      "model count:\n",
      "5\n",
      "variable test counts\n",
      "{'media1': 7, 'media2': 7, 'media3': 6, 'random1': 3, 'random2': 3, 'random3': 3, 'media4': 5, 'price': 6, 'distribution': 6, 'sales': 0}\n",
      "model count:\n",
      "6\n",
      "variable test counts\n",
      "{'media1': 8, 'media2': 8, 'media3': 7, 'random1': 3, 'random2': 4, 'random3': 3, 'media4': 6, 'price': 7, 'distribution': 7, 'sales': 0}\n",
      "model count:\n",
      "7\n",
      "variable test counts\n",
      "{'media1': 9, 'media2': 9, 'media3': 8, 'random1': 4, 'random2': 4, 'random3': 3, 'media4': 7, 'price': 8, 'distribution': 8, 'sales': 0}\n",
      "model count:\n",
      "8\n",
      "variable test counts\n",
      "{'media1': 10, 'media2': 10, 'media3': 9, 'random1': 4, 'random2': 5, 'random3': 4, 'media4': 8, 'price': 9, 'distribution': 9, 'sales': 0}\n",
      "model count:\n",
      "9\n",
      "variable test counts\n",
      "{'media1': 11, 'media2': 11, 'media3': 10, 'random1': 5, 'random2': 5, 'random3': 4, 'media4': 9, 'price': 10, 'distribution': 10, 'sales': 0}\n",
      "model count:\n",
      "10\n",
      "\n",
      "Final Model Variables:\n",
      "['media1', 'media2', 'media3', 'media4', 'price', 'distribution']\n",
      "\n",
      "Average Alpha over all iterations:\n",
      "1.3\n"
     ]
    }
   ],
   "source": [
    "automodeller = AutoModeller(data, dependent_var, independent_vars, initial_alpha, min_iterations, max_iterations)\n",
    "# Run the automodeller\n",
    "automodeller.run()\n"
   ]
  },
  {
   "cell_type": "markdown",
   "id": "a4c7354f-19f4-4586-a9b6-d313f922bfbf",
   "metadata": {},
   "source": [
    "# Plot the variable test counts\n",
    "**Variable test counts give an indication of which variables the model has favoured\n"
   ]
  },
  {
   "cell_type": "code",
   "execution_count": 17,
   "id": "adb69324-2ba4-4048-9c69-b59d054c02f9",
   "metadata": {},
   "outputs": [
    {
     "data": {
      "image/png": "[encoded data removed]",
      "text/plain": [
       "<Figure size 640x480 with 1 Axes>"
      ]
     },
     "metadata": {},
     "output_type": "display_data"
    }
   ],
   "source": [
    "automodeller.plot_variable_test_counts()"
   ]
  },
  {
   "cell_type": "code",
   "execution_count": null,
   "id": "63655ab3-72f2-4042-9a9e-a1ded0e3d621",
   "metadata": {},
   "outputs": [],
   "source": []
  }
 ],
 "metadata": {
  "kernelspec": {
   "display_name": "Python 3 (ipykernel)",
   "language": "python",
   "name": "python3"
  },
  "language_info": {
   "codemirror_mode": {
    "name": "ipython",
    "version": 3
   },
   "file_extension": ".py",
   "mimetype": "text/x-python",
   "name": "python",
   "nbconvert_exporter": "python",
   "pygments_lexer": "ipython3",
   "version": "3.11.0"
  }
 },
 "nbformat": 4,
 "nbformat_minor": 5
}
